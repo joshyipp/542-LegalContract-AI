{
 "cells": [
  {
   "cell_type": "code",
   "execution_count": 11,
   "id": "da22d41a",
   "metadata": {},
   "outputs": [],
   "source": [
    "import os\n",
    "from glob import glob\n",
    "\n",
    "import pandas as pd"
   ]
  },
  {
   "cell_type": "code",
   "execution_count": null,
   "id": "daabc78f",
   "metadata": {},
   "outputs": [],
   "source": [
    "\n",
    "\n",
    "def reshape_clause_file(file_path):\n",
    "    \"\"\"\n",
    "    Reshape an Excel file containing legal clauses from wide to long format.\n",
    "    \n",
    "    Parameters\n",
    "    ----------\n",
    "    file_path : str\n",
    "        Path to the Excel file containing clause data.\n",
    "\n",
    "    Returns\n",
    "    -------\n",
    "    pandas.DataFrame\n",
    "        A dataframe in long format with columns: filename, clause_type, and clause_text.\n",
    "        Returns an empty dataframe with expected columns if processing fails.\n",
    "    \"\"\"\n",
    "    try:\n",
    "        df = pd.read_excel(file_path)\n",
    "\n",
    "        # Ensure first column is 'filename' and others are clause types\n",
    "        df.columns = df.columns.astype(str)  # Ensure all columns are string\n",
    "        filename_col = df.columns[0]\n",
    "\n",
    "        # Check for duplicate column names\n",
    "        if df.columns.duplicated().any():\n",
    "            raise ValueError(f\"Duplicate columns found in: {file_path}\")\n",
    "\n",
    "        # Safely melt to long format\n",
    "        df_long = df.melt(id_vars=[filename_col], var_name=\"clause_type\", value_name=\"clause_text\")\n",
    "        df_long = df_long.dropna(subset=[\"clause_text\"])  # Drop empty clause text rows\n",
    "\n",
    "        # Rename columns\n",
    "        df_long = df_long.rename(columns={filename_col: \"filename\"})\n",
    "\n",
    "        # Reset index to avoid index-related errors in concat\n",
    "        return df_long.reset_index(drop=True)\n",
    "\n",
    "    except Exception as e:\n",
    "        print(f\"⚠️ Error processing {file_path}: {e}\")\n",
    "        return pd.DataFrame(columns=[\"clause_type\", \"clause_text\", \"filename\"])"
   ]
  },
  {
   "cell_type": "code",
   "execution_count": 19,
   "id": "f13c5248",
   "metadata": {},
   "outputs": [
    {
     "name": "stdout",
     "output_type": "stream",
     "text": [
      "                                            filename        clause_type  \\\n",
      "0  GopageCorp_20140221_10-K_EX-10.1_8432966_EX-10...  Change of Control   \n",
      "1  DeltathreeInc_19991102_S-1A_EX-10.19_6227850_E...  Change of Control   \n",
      "2  EdietsComInc_20001030_10QSB_EX-10.4_2606646_EX...  Change of Control   \n",
      "3  MusclepharmCorp_20170208_10-KA_EX-10.38_989358...  Change of Control   \n",
      "4  TomOnlineInc_20060501_20-F_EX-4.46_749700_EX-4...  Change of Control   \n",
      "\n",
      "                                         clause_text  \n",
      "0  For purposes of the preceding sentence, and wi...  \n",
      "1  The term of this Agreement shall be effective ...  \n",
      "2  For purposes of this Agreement, \"Change in Con...  \n",
      "3  Neither party shall voluntarily or by operatio...  \n",
      "4  Notwithstanding the foregoing, Skype or Skype ...  \n"
     ]
    }
   ],
   "source": [
    "# Define your data folder\n",
    "directory = \"Datasets/CUAD/CUAD clauses\"\n",
    "\n",
    "# Get only real Excel files (ignore temporary Excel files starting with ~$)\n",
    "excel_files = [\n",
    "    f for f in glob(os.path.join(directory, \"*.xlsx\")) if not os.path.basename(f).startswith(\"~$\")\n",
    "]\n",
    "\n",
    "# Process and collect all clauses\n",
    "reshaped_list = []\n",
    "for file in excel_files:\n",
    "    try:\n",
    "        reshaped_list.append(reshape_clause_file(file))\n",
    "    except Exception as e:\n",
    "        print(f\"⚠️ Error processing {file}: {e}\")\n",
    "\n",
    "# Combine all successfully reshaped data\n",
    "all_clauses = pd.concat(reshaped_list, ignore_index=True)\n",
    "\n",
    "# Preview or save\n",
    "print(all_clauses.head(5))\n",
    "all_clauses.to_csv(\"all_reshaped_clauses.csv\", index=False)"
   ]
  }
 ],
 "metadata": {
  "kernelspec": {
   "display_name": "Python 3",
   "language": "python",
   "name": "python3"
  },
  "language_info": {
   "codemirror_mode": {
    "name": "ipython",
    "version": 3
   },
   "file_extension": ".py",
   "mimetype": "text/x-python",
   "name": "python",
   "nbconvert_exporter": "python",
   "pygments_lexer": "ipython3",
   "version": "3.11.9"
  }
 },
 "nbformat": 4,
 "nbformat_minor": 5
}
