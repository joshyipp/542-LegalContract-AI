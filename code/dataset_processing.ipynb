{
 "cells": [
  {
   "cell_type": "markdown",
   "id": "a13825c0",
   "metadata": {},
   "source": [
    "# Processing \"raw\" data from the datasets"
   ]
  },
  {
   "cell_type": "markdown",
   "id": "4baeb13f",
   "metadata": {},
   "source": [
    "## Imports and other setup"
   ]
  },
  {
   "cell_type": "code",
   "execution_count": 1,
   "id": "a47f3fe6",
   "metadata": {},
   "outputs": [
    {
     "name": "stdout",
     "output_type": "stream",
     "text": [
      "Datasets: c:\\Users\\yip\\Documents\\GitHub\\542-LegalContract-AI\\Datasets\n",
      "Sink: c:\\Users\\yip\\Documents\\GitHub\\542-LegalContract-AI\\Datasets\\processed\n"
     ]
    }
   ],
   "source": [
    "import json\n",
    "import os\n",
    "\n",
    "from find_dataset import locate\n",
    "\n",
    "DATA = locate(\"Datasets\")\n",
    "SINK = DATA / \"processed\"\n",
    "\n",
    "os.makedirs(SINK, exist_ok=True)\n",
    "\n",
    "print(f\"Datasets: {DATA}\")\n",
    "print(f\"Sink: {SINK}\")"
   ]
  },
  {
   "cell_type": "markdown",
   "id": "413fb9da",
   "metadata": {},
   "source": [
    "## Dataset directory layout\n",
    "\n",
    "<!DOCTYPE html>\n",
    "<html>\n",
    "<head>\n",
    " <meta http-equiv=\"Content-Type\" content=\"text/html; charset=UTF-8\">\n",
    " <meta name=\"Author\" content=\"Made by 'tree'\">\n",
    " <meta name=\"GENERATOR\" content=\"tree v2.1.0 © 1996 - 2022 by Steve Baker, Thomas Moore, Francesc Rocher, Florian Sesser, Kyosuke Tokoro\">\n",
    " <title>Directory Tree</title>\n",
    " <style type=\"text/css\">\n",
    "  BODY { font-family : monospace, sans-serif;  color: black;}\n",
    "  P { font-family : monospace, sans-serif; color: black; margin:0px; padding: 0px;}\n",
    "  A:visited { text-decoration : none; margin : 0px; padding : 0px;}\n",
    "  A:link    { text-decoration : none; margin : 0px; padding : 0px;}\n",
    "  A:hover   { text-decoration: underline; background-color : yellow; margin : 0px; padding : 0px;}\n",
    "  A:active  { margin : 0px; padding : 0px;}\n",
    "  .VERSION { font-size: small; font-family : arial, sans-serif; }\n",
    "  .NORM  { color: black;  }\n",
    "  .FIFO  { color: purple; }\n",
    "  .CHAR  { color: yellow; }\n",
    "  .DIR   { color: blue;   }\n",
    "  .BLOCK { color: yellow; }\n",
    "  .LINK  { color: aqua;   }\n",
    "  .SOCK  { color: fuchsia;}\n",
    "  .EXEC  { color: green;  }\n",
    " </style>\n",
    "</head>\n",
    "<body>\n",
    "        <h1>Directory Tree</h1><p>\n",
    "        <a href=\"baseREF/\">baseREF</a><br>\n",
    "        ├── <a href=\"baseREF/ContractNLI/\">ContractNLI</a><br>\n",
    "        │   └── <a href=\"baseREF/ContractNLI/raw/\">raw</a><br>\n",
    "        ├── <a href=\"baseREF/CUAD/\">CUAD</a><br>\n",
    "        │   ├── <a href=\"baseREF/CUAD/full_contract_pdf/\">full_contract_pdf</a><br>\n",
    "        │   ├── <a href=\"baseREF/CUAD/full_contract_txt/\">full_contract_txt</a><br>\n",
    "        │   └── <a href=\"baseREF/CUAD/label_group_xlsx/\">label_group_xlsx</a><br>\n",
    "        └── <a href=\"baseREF/processed/\">processed</a><br>\n",
    "</body>\n",
    "</html>"
   ]
  },
  {
   "cell_type": "markdown",
   "id": "6f513f5a",
   "metadata": {},
   "source": [
    "Make sure that your directory tree looks like this, with `dev.json`, `test.json` and `train.json` at the same level as `raw` (under ContractNLI)."
   ]
  },
  {
   "cell_type": "markdown",
   "id": "47d932c8",
   "metadata": {},
   "source": [
    "## ContractNLI Processing\n",
    "\n",
    "The not raw data is housed in `dev.json`, `test.json` and `train.json` files. They're primarily in the form:\n",
    "\n",
    "```json\n",
    "\n",
    "{\n",
    "    \"documents\": [\n",
    "        {\n",
    "            \"id\": \"\",\n",
    "            \"file_name\": \"\",\n",
    "            \"spans\": [\n",
    "            ],\n",
    "            \"annotation_sets\": [\n",
    "                \"annotations\": {\n",
    "                }\n",
    "            ],\n",
    "            \"document_type\": \"\",\n",
    "            \"url\": \"\",\n",
    "        }\n",
    "    ],\n",
    "    \"labels\": {\n",
    "    }\n",
    "}\n",
    "\n",
    "```"
   ]
  },
  {
   "cell_type": "code",
   "execution_count": 2,
   "id": "2499f887",
   "metadata": {},
   "outputs": [
    {
     "data": {
      "text/plain": [
       "[]"
      ]
     },
     "execution_count": 2,
     "metadata": {},
     "output_type": "execute_result"
    }
   ],
   "source": [
    "nli = []\n",
    "for file in (DATA / \"ContractNLI\").glob(\"*.json\"):\n",
    "    with open(file) as f:\n",
    "        data = json.load(f)\n",
    "        for doc in data[\"documents\"]:\n",
    "            [doc.pop(i) for i in [\"spans\", \"annotation_sets\", \"document_type\", \"url\"]]\n",
    "            nli.append(doc)\n",
    "\n",
    "nli = sorted(nli, key=lambda x: x[\"id\"])\n",
    "nli"
   ]
  },
  {
   "cell_type": "code",
   "execution_count": null,
   "id": "fbbc1181",
   "metadata": {},
   "outputs": [],
   "source": [
    "with open(SINK / \"contractnli.json\", \"w\") as f:\n",
    "    json.dump(nli, f, indent=4, ensure_ascii=False)"
   ]
  },
  {
   "cell_type": "markdown",
   "id": "4f6b2513",
   "metadata": {},
   "source": [
    "## CUAD Processing"
   ]
  },
  {
   "cell_type": "code",
   "execution_count": null,
   "id": "bd30008f",
   "metadata": {},
   "outputs": [],
   "source": [
    "cuad = []\n",
    "\n",
    "for idx, file in enumerate((DATA / \"CUAD\" / \"full_contract_txt\").glob(\"*.txt\")):\n",
    "    with open(file) as f:\n",
    "        text = f.read()\n",
    "        cuad.append(\n",
    "            {\n",
    "                \"id\": f\"{idx}\",\n",
    "                \"file_name\": file.name,\n",
    "                \"text\": text,\n",
    "            }\n",
    "        )\n",
    "\n",
    "cuad = sorted(cuad, key=lambda x: x[\"id\"])\n",
    "cuad"
   ]
  },
  {
   "cell_type": "code",
   "execution_count": null,
   "id": "54518075",
   "metadata": {},
   "outputs": [],
   "source": [
    "with open(SINK / \"cuad.json\", \"w\") as f:\n",
    "    json.dump(cuad, f, indent=4, ensure_ascii=False)"
   ]
  }
 ],
 "metadata": {
  "kernelspec": {
   "display_name": "Python 3",
   "language": "python",
   "name": "python3"
  },
  "language_info": {
   "codemirror_mode": {
    "name": "ipython",
    "version": 3
   },
   "file_extension": ".py",
   "mimetype": "text/x-python",
   "name": "python",
   "nbconvert_exporter": "python",
   "pygments_lexer": "ipython3",
   "version": "3.11.9"
  }
 },
 "nbformat": 4,
 "nbformat_minor": 5
}
